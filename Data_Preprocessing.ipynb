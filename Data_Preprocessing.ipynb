{
  "nbformat": 4,
  "nbformat_minor": 0,
  "metadata": {
    "colab": {
      "name": "Data Preprocessing.ipynb",
      "provenance": [],
      "collapsed_sections": [],
      "authorship_tag": "ABX9TyOOvaNa4g57x/jODfgXwZFp",
      "include_colab_link": true
    },
    "kernelspec": {
      "name": "python3",
      "display_name": "Python 3"
    },
    "language_info": {
      "name": "python"
    }
  },
  "cells": [
    {
      "cell_type": "markdown",
      "metadata": {
        "id": "view-in-github",
        "colab_type": "text"
      },
      "source": [
        "<a href=\"https://colab.research.google.com/github/Anjali-Saravanan/Data-Preprocessing/blob/main/Data_Preprocessing.ipynb\" target=\"_parent\"><img src=\"https://colab.research.google.com/assets/colab-badge.svg\" alt=\"Open In Colab\"/></a>"
      ]
    },
    {
      "cell_type": "code",
      "execution_count": 2,
      "metadata": {
        "id": "AqpKI2Ft4J1D"
      },
      "outputs": [],
      "source": [
        "#import the libraries\n",
        "import numpy as np # used for handling numbers\n",
        "import pandas as pd # used for handling the dataset\n",
        "from sklearn.impute import SimpleImputer # used for handling missing data\n",
        "from sklearn.preprocessing import LabelEncoder, OneHotEncoder # used for encoding categorical data\n",
        "from sklearn.model_selection import train_test_split # used for splitting training and testing data\n",
        "from sklearn.preprocessing import StandardScaler # used for feature scaling"
      ]
    },
    {
      "cell_type": "code",
      "source": [
        "urlfile = \"https://raw.githubusercontent.com/tarunlnmiit/machine_learning/0efb7ae5e8cd8514c9a2cea0357c6bc4346a2b82/DataPreprocessing.csv\"\n",
        "\n",
        "dataset = pd.read_csv('https://raw.githubusercontent.com/tarunlnmiit/machine_learning/0efb7ae5e8cd8514c9a2cea0357c6bc4346a2b82/DataPreprocessing.csv') \n",
        "# to import the dataset into a variable\n",
        "\n",
        "dataset.head(10)"
      ],
      "metadata": {
        "id": "PQnJ1hVE5FH9"
      },
      "execution_count": null,
      "outputs": []
    },
    {
      "cell_type": "code",
      "source": [
        "# Splitting the attributes into independent and dependent attributes\n",
        "X = dataset.iloc[:, :-1].values # attributes to determine dependent variable / Class\n",
        "Y = dataset.iloc[:, -1].values # dependent variable / Class"
      ],
      "metadata": {
        "id": "ddVMw76K64vP"
      },
      "execution_count": 5,
      "outputs": []
    },
    {
      "cell_type": "code",
      "source": [
        "# handling the missing data and replace missing values with nan from numpy and replace with mean of all the other values\n",
        "imputer = SimpleImputer(missing_values=np.nan, strategy='mean') \n",
        "imputer = imputer.fit(X[:, 1:])\n",
        "X[:, 1:] = imputer.transform(X[:, 1:])"
      ],
      "metadata": {
        "id": "TFj-2pLl6-xL"
      },
      "execution_count": 6,
      "outputs": []
    },
    {
      "cell_type": "code",
      "source": [
        "from sklearn.preprocessing import LabelEncoder  \n",
        "label_encoder_x= LabelEncoder()  \n",
        "X[:, 0]= label_encoder_x.fit_transform(X[:, 0])"
      ],
      "metadata": {
        "id": "TAGPqgFo72gL"
      },
      "execution_count": 10,
      "outputs": []
    },
    {
      "cell_type": "code",
      "source": [
        "from sklearn.preprocessing import StandardScaler\n",
        "st_x= StandardScaler()\n",
        "x_train = st_x.fit_transform(X)"
      ],
      "metadata": {
        "id": "1I5eHlTL8BeW"
      },
      "execution_count": 11,
      "outputs": []
    }
  ]
}